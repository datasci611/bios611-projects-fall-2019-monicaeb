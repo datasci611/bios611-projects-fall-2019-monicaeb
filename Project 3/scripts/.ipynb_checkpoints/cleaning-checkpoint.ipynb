{
 "cells": [
  {
   "cell_type": "code",
   "execution_count": null,
   "metadata": {},
   "outputs": [],
   "source": [
    "# data cleaning and subsetting script for BIOS 611 UMD project 3\n",
    "\n",
    "# read in first source dataset used in previous projects:\n",
    "import csv\n",
    "import pandas as pd\n",
    "\n",
    "\n",
    "with open(\"C:\\\\Users\\\\Monica Borges\\\\OneDrive - University of North Carolina at Chapel Hill\\\\BIOS 611\\\\GitHub Resources\\\\Projects\\\\Project 1\\\\data\\\\umd.txt\") as datorig:\n",
    "    datorig_in = csv.reader(datorig, delimiter='\\t')\n",
    "    \n",
    "    \n",
    "\n",
    "# read in new data: client demographics\n",
    "\n",
    "\n",
    "# read in new data: client income\n",
    "\n",
    "\n",
    "\n",
    "\n"
   ]
  },
  {
   "cell_type": "code",
   "execution_count": null,
   "metadata": {},
   "outputs": [],
   "source": []
  }
 ],
 "metadata": {
  "kernelspec": {
   "display_name": "Python 3",
   "language": "python",
   "name": "python3"
  },
  "language_info": {
   "codemirror_mode": {
    "name": "ipython",
    "version": 3
   },
   "file_extension": ".py",
   "mimetype": "text/x-python",
   "name": "python",
   "nbconvert_exporter": "python",
   "pygments_lexer": "ipython3",
   "version": "3.7.3"
  }
 },
 "nbformat": 4,
 "nbformat_minor": 2
}
