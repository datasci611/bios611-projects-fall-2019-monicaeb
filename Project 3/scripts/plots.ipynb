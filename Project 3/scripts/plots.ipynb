{
 "cells": [
  {
   "cell_type": "code",
   "execution_count": null,
   "metadata": {},
   "outputs": [],
   "source": [
    "import pandas as pd\n",
    "import numpy as np\n",
    "\n",
    "## demog data\n",
    "# pie chart of race\n",
    "\n",
    "# hist of ages\n",
    "\n",
    "# client growth over the years by gender\n",
    "\n",
    "\n",
    "# create boxplots by month of number of new visitors. year range is 2012 - 2019\n",
    "# each point is sum for that month for a different year\n",
    "\n",
    "# first visits by month\n",
    "\n",
    "# last visits by month\n",
    "\n",
    "# histogram of time spent\n",
    "\n",
    "## looks like the time that people come and go throughout the year is relatively constant--no significant differences by month. \n",
    "## is there an association between when people leave and some other factor?\n",
    "\n",
    "# finances: distribution of monthly income when people arrive vs when they leave. \n",
    "\n"
   ]
  }
 ],
 "metadata": {
  "kernelspec": {
   "display_name": "Python 3",
   "language": "python",
   "name": "python3"
  },
  "language_info": {
   "codemirror_mode": {
    "name": "ipython",
    "version": 3
   },
   "file_extension": ".py",
   "mimetype": "text/x-python",
   "name": "python",
   "nbconvert_exporter": "python",
   "pygments_lexer": "ipython3",
   "version": "3.7.3"
  }
 },
 "nbformat": 4,
 "nbformat_minor": 2
}
